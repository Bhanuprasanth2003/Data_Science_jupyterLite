{
  "metadata": {
    "kernelspec": {
      "name": "python",
      "display_name": "Python (Pyodide)",
      "language": "python"
    },
    "language_info": {
      "codemirror_mode": {
        "name": "python",
        "version": 3
      },
      "file_extension": ".py",
      "mimetype": "text/x-python",
      "name": "python",
      "nbconvert_exporter": "python",
      "pygments_lexer": "ipython3",
      "version": "3.8"
    },
    "toc": {
      "base_numbering": 1
    }
  },
  "nbformat_minor": 4,
  "nbformat": 4,
  "cells": [
    {
      "cell_type": "markdown",
      "source": "# Data Science Tools ",
      "metadata": {}
    },
    {
      "cell_type": "markdown",
      "source": "In this , We are performing the various tasks to implement different tools ",
      "metadata": {}
    },
    {
      "cell_type": "markdown",
      "source": "\nSome of the popular languages that data scientists use are: \n\n1. Python\n2. R\n3. SQL\n4. C++\n5. Java...etc",
      "metadata": {}
    },
    {
      "cell_type": "markdown",
      "source": "Some of the popular data science libraries that data scientists use are: \n\n1. Tensorflow\n2. Keras\n3. ScKit-Learn\n4. Numpy\n5. Pandas\n6. PyTorch\n7. Matplotlib\n8. SciPy.......etc",
      "metadata": {}
    },
    {
      "cell_type": "markdown",
      "source": "|Data Science Tools|\n\n| Tool Name      |\n|----------------|\n| Python         |\n| R              |\n| Pandas         |\n| dplyr          |\n| Matplotlib     |\n| ggplot2        |\n| Scikit-Learn   |\n| TensorFlow     |\n| Keras          |\n| Apache Spark   |\n| Hadoop         |\n| MySQL          |\n| MongoDB        |\n| Jupyter Notebook|\n| RStudio        |\n\n",
      "metadata": {
        "tags": [],
        "editable": true,
        "slideshow": {
          "slide_type": ""
        }
      }
    },
    {
      "cell_type": "markdown",
      "source": "# Below performing some Airthemetic Expressions ",
      "metadata": {}
    },
    {
      "cell_type": "code",
      "source": "#: introducing arithmetic expression examples\n(3*4)+5",
      "metadata": {
        "tags": [],
        "editable": true,
        "slideshow": {
          "slide_type": ""
        },
        "trusted": true
      },
      "outputs": [
        {
          "execution_count": 5,
          "output_type": "execute_result",
          "data": {
            "text/plain": "17"
          },
          "metadata": {}
        }
      ],
      "execution_count": 5
    },
    {
      "cell_type": "code",
      "source": "#: Convert minutes to hours.\n200/60",
      "metadata": {
        "trusted": true
      },
      "outputs": [
        {
          "execution_count": 4,
          "output_type": "execute_result",
          "data": {
            "text/plain": "3.3333333333333335"
          },
          "metadata": {}
        }
      ],
      "execution_count": 4
    },
    {
      "cell_type": "markdown",
      "source": "# Objectives\n\n- Understand basic arithmetic operations.\n- Implement arithmetic expressions in code.\n- Convert units from minutes to hours.\n- Share the notebook through GitHub.\n- Take a screenshot of the notebook.\n",
      "metadata": {}
    },
    {
      "cell_type": "markdown",
      "source": "# Author",
      "metadata": {}
    },
    {
      "cell_type": "code",
      "source": "B Bhanu Prasanth",
      "metadata": {
        "trusted": true
      },
      "outputs": [],
      "execution_count": null
    }
  ]
}